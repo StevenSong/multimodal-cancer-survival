{
 "cells": [
  {
   "cell_type": "markdown",
   "id": "0",
   "metadata": {},
   "source": [
    "# Analyze Survival Model Results\n",
    "\n",
    "The primary endpoints of our analysis are concordance index (C-index) and risk stratification. This notebook analyzes several facets of our results. Each subheading in this notebook should be self contained (that is, it does not depend on or influence other sections of the notebook). The only exception is the **Setup** section which must be run prior to any given section."
   ]
  },
  {
   "cell_type": "markdown",
   "id": "1",
   "metadata": {},
   "source": [
    "## Setup"
   ]
  },
  {
   "cell_type": "code",
   "execution_count": null,
   "id": "2",
   "metadata": {},
   "outputs": [],
   "source": [
    "from collections import defaultdict\n",
    "import matplotlib.pyplot as plt\n",
    "import pandas as pd\n",
    "import numpy as np\n",
    "from sksurv.metrics import concordance_index_censored\n",
    "from sksurv.nonparametric import kaplan_meier_estimator"
   ]
  },
  {
   "cell_type": "code",
   "execution_count": null,
   "id": "3",
   "metadata": {},
   "outputs": [],
   "source": [
    "df = pd.read_csv(\"split_cases.csv\")\n",
    "assert df[\"case_id\"].is_unique\n",
    "df = df.set_index(\"case_id\")"
   ]
  },
  {
   "cell_type": "code",
   "execution_count": null,
   "id": "4",
   "metadata": {},
   "outputs": [],
   "source": [
    "def make_outcome_array(df):\n",
    "    y = np.array(\n",
    "        list(zip(df[\"dead\"], df[\"days_to_death_or_censor\"])),\n",
    "        dtype=[(\"Status\", \"?\"), (\"Survival_in_days\", \"<f8\")],\n",
    "    )\n",
    "    return y"
   ]
  },
  {
   "cell_type": "code",
   "execution_count": null,
   "id": "5",
   "metadata": {},
   "outputs": [],
   "source": [
    "def fit_survival_curve(y, max_time=3650, interpolate=True):\n",
    "    time, survival_prob = kaplan_meier_estimator(y[\"Status\"], y[\"Survival_in_days\"])\n",
    "    time[0] = 0\n",
    "    if not interpolate:\n",
    "        return time, survival_prob\n",
    "    interp_time = np.linspace(0, max_time, max_time+1)\n",
    "    interp_prob = np.interp(interp_time, time, survival_prob)\n",
    "    return interp_time, interp_prob"
   ]
  },
  {
   "cell_type": "code",
   "execution_count": null,
   "id": "6",
   "metadata": {},
   "outputs": [],
   "source": [
    "def per_split_lo_hi_risk_curves(risk_scores, split_df, interpolate=True):\n",
    "    pivot = np.median(risk_scores)\n",
    "    lo_risk_idxs = np.argwhere(risk_scores < pivot).squeeze()\n",
    "    hi_risk_idxs = np.argwhere(risk_scores >= pivot).squeeze()\n",
    "    lo_risk_cases = split_df.loc[lo_risk_idxs, \"case_id\"]\n",
    "    hi_risk_cases = split_df.loc[hi_risk_idxs, \"case_id\"]\n",
    "    split_df = split_df.set_index(\"case_id\")\n",
    "    lo_risk_df = split_df.loc[lo_risk_cases]\n",
    "    hi_risk_df = split_df.loc[hi_risk_cases]\n",
    "    lo_risk_y = make_outcome_array(lo_risk_df)\n",
    "    hi_risk_y = make_outcome_array(hi_risk_df)\n",
    "    lo_risk_time, lo_risk_prob = fit_survival_curve(lo_risk_y, interpolate=interpolate)\n",
    "    hi_risk_time, hi_risk_prob = fit_survival_curve(hi_risk_y, interpolate=interpolate)\n",
    "    return {\n",
    "        \"lo_risk\": {\n",
    "            \"time\": lo_risk_time,\n",
    "            \"prob\": lo_risk_prob,\n",
    "        },\n",
    "        \"hi_risk\": {\n",
    "            \"time\": hi_risk_time,\n",
    "            \"prob\": hi_risk_prob,\n",
    "        },\n",
    "    }"
   ]
  },
  {
   "cell_type": "code",
   "execution_count": null,
   "id": "7",
   "metadata": {},
   "outputs": [],
   "source": [
    "def cross_val_lo_hi_risk_curves(preds, df):\n",
    "    lo_risk_times = []\n",
    "    lo_risk_probs = []\n",
    "    hi_risk_times = []\n",
    "    hi_risk_probs = []\n",
    "    c_idxs = []\n",
    "    for i in range(5):\n",
    "        split_df = df[df[\"split\"] == i].sort_values(\"split_order\").reset_index()\n",
    "        c_idx = preds[i][\"c_index\"]\n",
    "        c_idxs.append(c_idx)\n",
    "\n",
    "        risk_scores = preds[i][\"y_test_pred\"]\n",
    "        curves = per_split_lo_hi_risk_curves(risk_scores, split_df)\n",
    "        lo_risk_times.append(curves[\"lo_risk\"][\"time\"])\n",
    "        lo_risk_probs.append(curves[\"lo_risk\"][\"prob\"])\n",
    "        hi_risk_times.append(curves[\"hi_risk\"][\"time\"])\n",
    "        hi_risk_probs.append(curves[\"hi_risk\"][\"prob\"])\n",
    "\n",
    "    lo_risk_time_mean = np.mean(lo_risk_times, axis=0)\n",
    "    lo_risk_prob_mean = np.mean(lo_risk_probs, axis=0)\n",
    "    lo_risk_prob_std = np.std(lo_risk_probs, axis=0)\n",
    "\n",
    "    hi_risk_time_mean = np.mean(hi_risk_times, axis=0)\n",
    "    hi_risk_prob_mean = np.mean(hi_risk_probs, axis=0)\n",
    "    hi_risk_prob_std = np.std(hi_risk_probs, axis=0)\n",
    "\n",
    "    c_idx_mean = np.mean(c_idxs)\n",
    "    c_idx_std = np.std(c_idxs)\n",
    "\n",
    "    return {\n",
    "        \"lo_risk\": {\n",
    "            \"time\": lo_risk_time_mean,\n",
    "            \"prob\": {\n",
    "                \"mean\": lo_risk_prob_mean,\n",
    "                \"std\": lo_risk_prob_std,\n",
    "            }\n",
    "        },\n",
    "        \"hi_risk\": {\n",
    "            \"time\": hi_risk_time_mean,\n",
    "            \"prob\": {\n",
    "                \"mean\": hi_risk_prob_mean,\n",
    "                \"std\": hi_risk_prob_std,\n",
    "            }\n",
    "        },\n",
    "        \"c_index\": {\n",
    "            \"mean\": c_idx_mean,\n",
    "            \"std\": c_idx_std,\n",
    "        }\n",
    "    }"
   ]
  },
  {
   "cell_type": "code",
   "execution_count": null,
   "id": "8",
   "metadata": {},
   "outputs": [],
   "source": [
    "def plot_results(\n",
    "    *,  # enforce kwargs\n",
    "    ax: plt.Axes,\n",
    "    results: dict,\n",
    "    name: str,\n",
    "    color: str,\n",
    "    plot_std: bool = True,\n",
    "    linestyle: str | None = None,\n",
    "    include_cidx: bool = True,\n",
    "):\n",
    "    c_idx_mean = results[\"c_index\"][\"mean\"]\n",
    "    c_idx_std = results[\"c_index\"][\"std\"]\n",
    "    label = name\n",
    "    if include_cidx:\n",
    "        label += f\", C-index = {c_idx_mean:0.2f}\"\n",
    "        if not plot_std and c_idx_std is not None:\n",
    "            label += f\"±{c_idx_std:0.2f}\"\n",
    "    ax.step(\n",
    "        results[\"lo_risk\"][\"time\"],\n",
    "        results[\"lo_risk\"][\"prob\"][\"mean\"],\n",
    "        where=\"post\",\n",
    "        color=color,\n",
    "        label=label,\n",
    "        linestyle=linestyle,\n",
    "    )\n",
    "    if plot_std:\n",
    "        ax.fill_between(\n",
    "            results[\"lo_risk\"][\"time\"],\n",
    "            results[\"lo_risk\"][\"prob\"][\"mean\"] - results[\"lo_risk\"][\"prob\"][\"std\"],\n",
    "            results[\"lo_risk\"][\"prob\"][\"mean\"] + results[\"lo_risk\"][\"prob\"][\"std\"],\n",
    "            alpha=0.25,\n",
    "            step=\"post\",\n",
    "            color=color,\n",
    "            label=f\"±1 std. dev. = {c_idx_std:0.2f}\",\n",
    "        )\n",
    "\n",
    "    ax.step(\n",
    "        results[\"hi_risk\"][\"time\"],\n",
    "        results[\"hi_risk\"][\"prob\"][\"mean\"],\n",
    "        where=\"post\",\n",
    "        color=color,\n",
    "        linestyle=linestyle,\n",
    "    )\n",
    "    if plot_std:\n",
    "        ax.fill_between(\n",
    "            results[\"hi_risk\"][\"time\"],\n",
    "            results[\"hi_risk\"][\"prob\"][\"mean\"] - results[\"hi_risk\"][\"prob\"][\"std\"],\n",
    "            results[\"hi_risk\"][\"prob\"][\"mean\"] + results[\"hi_risk\"][\"prob\"][\"std\"],\n",
    "            alpha=0.25,\n",
    "            step=\"post\",\n",
    "            color=color,\n",
    "        )"
   ]
  },
  {
   "cell_type": "code",
   "execution_count": null,
   "id": "9",
   "metadata": {},
   "outputs": [],
   "source": [
    "def plot_comparison(\n",
    "    *,  # enforce kwargs\n",
    "    modes: list[\n",
    "        tuple[\n",
    "            str,  # modality name\n",
    "            str,  # modality color\n",
    "            dict,  # modality results\n",
    "        ],\n",
    "    ],\n",
    "    save_path: str | list[str] | None = None,\n",
    "    plot_std: bool = True,\n",
    "    include_cidx: bool = True,\n",
    "    linestyles: list[str] | None = None,\n",
    "    fig: plt.Figure | None = None,\n",
    "    ax: plt.Axes | None = None,\n",
    "):\n",
    "    if ax is None:\n",
    "        assert fig is None\n",
    "        fig, ax = plt.subplots(figsize=(5, 5))\n",
    "\n",
    "    for i, (name, color, results) in enumerate(modes):\n",
    "        linestyle = None\n",
    "        if linestyles is not None:\n",
    "            linestyle = linestyles[i]\n",
    "        plot_results(ax=ax, results=results, name=name, color=color, plot_std=plot_std, linestyle=linestyle, include_cidx=include_cidx)\n",
    "\n",
    "    ax.set_ylim(0, 1.05)\n",
    "    ax.set_xlim(0, 3650)\n",
    "    ax.legend(loc=\"lower left\")\n",
    "    ax.set_ylabel(\"Survival Probability\")\n",
    "    ax.set_xlabel(\"Days\")\n",
    "    if fig is not None:\n",
    "        fig.tight_layout()\n",
    "        if save_path is not None:\n",
    "            if isinstance(save_path, str):\n",
    "                save_path = [save_path]\n",
    "            for sp in save_path:\n",
    "                fig.savefig(sp, dpi=300)"
   ]
  },
  {
   "cell_type": "markdown",
   "id": "10",
   "metadata": {},
   "source": [
    "## Project Comparisons"
   ]
  },
  {
   "cell_type": "code",
   "execution_count": null,
   "id": "11",
   "metadata": {},
   "outputs": [],
   "source": [
    "pca_components = 256\n",
    "modes = {\n",
    "    \"demo\": (\"demo\", \"predictions_summarized.npy\"),\n",
    "    # \"canc\": (\"canc\", \"predictions_summarized.npy\"),\n",
    "    \"expr\": (\"expr\", \"predictions_summarized.npy\"),\n",
    "    \"hist\": (\"hist\", \"predictions_summarized.npy\"),\n",
    "    \"text\": (\"text\", \"predictions_summarized.npy\"),\n",
    "    \"orig\": (\"text\", \"predictions.npy\"),\n",
    "    \"canc-demo-expr-hist-text\": (\"canc-demo-expr-hist-text\", \"predictions_summarized.npy\"),\n",
    "}\n",
    "data = dict()\n",
    "for mode, (key, pred_file) in modes.items():\n",
    "    preds = np.load(pred_file, allow_pickle=True).item()[pca_components]\n",
    "    datum = [preds[i][key] for i in range(5)]\n",
    "    data[mode] = datum"
   ]
  },
  {
   "cell_type": "code",
   "execution_count": null,
   "id": "12",
   "metadata": {},
   "outputs": [],
   "source": [
    "meta = pd.read_csv(\"../data/clinical.csv\")\n",
    "assert not meta[\"case_id\"].duplicated().any()\n",
    "meta = meta.set_index(\"case_id\")\n",
    "meta = pd.merge(df, meta, left_index=True, right_index=True)\n",
    "df[\"project\"] = meta.loc[df.index, \"project\"]"
   ]
  },
  {
   "cell_type": "code",
   "execution_count": null,
   "id": "13",
   "metadata": {},
   "outputs": [],
   "source": [
    "df[\"project\"].value_counts()"
   ]
  },
  {
   "cell_type": "code",
   "execution_count": null,
   "id": "14",
   "metadata": {},
   "outputs": [],
   "source": [
    "data_by_project = defaultdict(lambda: defaultdict(list))\n",
    "for project in df[\"project\"].value_counts().head(8).index:\n",
    "    proj_df = df[df[\"project\"] == project]\n",
    "    for i in range(5):\n",
    "        proj_split_df = proj_df[proj_df[\"split\"] == i].sort_values(\"split_order\")\n",
    "        proj_split_idxs = proj_split_df[\"split_order\"].to_numpy()\n",
    "        proj_split_y_test = make_outcome_array(proj_split_df)\n",
    "\n",
    "        died_mask = proj_split_y_test[\"Status\"]\n",
    "        died_survival = proj_split_y_test[died_mask][\"Survival_in_days\"]\n",
    "        no_c_index = (\n",
    "            died_mask.sum() == 0 # all censored\n",
    "            or (\n",
    "                # no comparable pairs\n",
    "                died_mask.sum() < 2\n",
    "                and died_survival[0] == proj_split_y_test[\"Survival_in_days\"].max()\n",
    "            )\n",
    "        )\n",
    "        if no_c_index:\n",
    "            # given 5-fold cross validation with splits stratified by death\n",
    "            # we can pretty much guarantee that projects with < 10 deaths\n",
    "            # will have \"bad\" survival data\n",
    "            raise ValueError(f\"Bad Survival Data {project} Split {i}\")\n",
    "\n",
    "        for mode, datum in data.items():\n",
    "            proj_split_y_test_pred = datum[i][\"y_test_pred\"][proj_split_idxs]\n",
    "            proj_split_c_index = concordance_index_censored(\n",
    "                event_indicator=proj_split_y_test[\"Status\"],\n",
    "                event_time=proj_split_y_test[\"Survival_in_days\"],\n",
    "                estimate=proj_split_y_test_pred,\n",
    "            )[0]\n",
    "            data_by_project[project][mode].append(\n",
    "                {\n",
    "                    \"c_index\": proj_split_c_index,\n",
    "                    \"y_test_pred\": proj_split_y_test_pred,\n",
    "                }\n",
    "            )"
   ]
  },
  {
   "cell_type": "code",
   "execution_count": null,
   "id": "15",
   "metadata": {},
   "outputs": [],
   "source": [
    "fig, axs = plt.subplots(nrows=2, ncols=4, figsize=(20, 10))\n",
    "results_by_project = dict()\n",
    "for i, project in enumerate(df[\"project\"].value_counts().head(8).index):\n",
    "    ax = axs[i // 4, i % 4]\n",
    "    data = data_by_project[project]\n",
    "    proj_df = df[df[\"project\"] == project]\n",
    "\n",
    "    demo_results = cross_val_lo_hi_risk_curves(data[\"demo\"], proj_df)\n",
    "    # canc_results = cross_val_lo_hi_risk_curves(data[\"canc\"], proj_df)\n",
    "    expr_results = cross_val_lo_hi_risk_curves(data[\"expr\"], proj_df)\n",
    "    hist_results = cross_val_lo_hi_risk_curves(data[\"hist\"], proj_df)\n",
    "    text_results = cross_val_lo_hi_risk_curves(data[\"text\"], proj_df)\n",
    "    orig_results = cross_val_lo_hi_risk_curves(data[\"orig\"], proj_df)\n",
    "    mult_results = cross_val_lo_hi_risk_curves(data[\"canc-demo-expr-hist-text\"], proj_df)\n",
    "\n",
    "    plot_comparison(\n",
    "        modes=[\n",
    "            (\"Demographics\", \"tab:blue\", demo_results),\n",
    "            # (\"Cancer Type\", \"tab:blue\", canc_results),\n",
    "            (\"RNA-seq\", \"tab:orange\", expr_results),\n",
    "            (\"Histology\", \"tab:green\", hist_results),\n",
    "            (\"Text\", \"tab:purple\", text_results),\n",
    "            (\"Multimodal\", \"tab:red\", mult_results),\n",
    "        ],\n",
    "        plot_std=False,\n",
    "        ax=ax,\n",
    "    )\n",
    "\n",
    "    results_by_project[project.replace(\"TCGA-\", \"\")] = {\n",
    "        \"Demographics\": demo_results[\"c_index\"][\"mean\"],\n",
    "        # \"Cancer type\": canc_results[\"c_index\"][\"mean\"],\n",
    "        \"RNA-seq\": expr_results[\"c_index\"][\"mean\"],\n",
    "        \"Histology\": hist_results[\"c_index\"][\"mean\"],\n",
    "        \"Text\": text_results[\"c_index\"][\"mean\"],\n",
    "        \"Orig\": orig_results[\"c_index\"][\"mean\"],\n",
    "        \"Multimodal\": mult_results[\"c_index\"][\"mean\"],\n",
    "    }\n",
    "results_by_project = pd.DataFrame(results_by_project)\n",
    "results_by_project.index.name = \"Modality\"\n",
    "results_by_project = results_by_project.reset_index()"
   ]
  },
  {
   "cell_type": "code",
   "execution_count": null,
   "id": "16",
   "metadata": {},
   "outputs": [],
   "source": [
    "results_by_project.set_index(\"Modality\").var(axis=1)"
   ]
  },
  {
   "cell_type": "code",
   "execution_count": null,
   "id": "17",
   "metadata": {},
   "outputs": [],
   "source": [
    "temp = results_by_project[results_by_project[\"Modality\"].isin([\"Demographics\", \"RNA-seq\", \"Histology\", \"Text\", \"Multimodal\"])]\n",
    "print(temp.to_latex(index=False, float_format=lambda x: f\"{x:0.3f}\"))"
   ]
  },
  {
   "cell_type": "code",
   "execution_count": null,
   "id": "18",
   "metadata": {},
   "outputs": [],
   "source": [
    "temp = results_by_project[results_by_project[\"Modality\"].isin([\"Text\", \"Orig\", \"Multimodal\"])].copy()\n",
    "temp[\"Modality\"] = temp[\"Modality\"].replace({\"Text\": \"Summarized\", \"Orig\": \"Original\"})\n",
    "print(temp.to_latex(index=False, float_format=lambda x: f\"{x:0.3f}\"))"
   ]
  },
  {
   "cell_type": "markdown",
   "id": "19",
   "metadata": {},
   "source": [
    "## Unimodal Comparisons"
   ]
  },
  {
   "cell_type": "code",
   "execution_count": null,
   "id": "20",
   "metadata": {},
   "outputs": [],
   "source": [
    "pca_components = 256\n",
    "modes = {\n",
    "    \"demo\": (\"demo\", \"predictions.npy\"),\n",
    "    \"canc\": (\"canc\", \"predictions.npy\"),\n",
    "    \"expr\": (\"expr\", \"predictions.npy\"),\n",
    "    \"hist\": (\"hist\", \"predictions.npy\"),\n",
    "    \"text\": (\"text\", \"predictions.npy\"),\n",
    "    \"expr-uce\": (\"expr\", \"predictions_uce_summarized.npy\"),\n",
    "    \"summ\": (\"text\", \"predictions_summarized.npy\"),\n",
    "    \"text-mistral\": (\"text\", \"predictions_mistral.npy\"),\n",
    "    \"summ-mistral\": (\"text\", \"predictions_mistral_summarized.npy\"),\n",
    "}\n",
    "unimodal_data = dict()\n",
    "for mode, (key, pred_file) in modes.items():\n",
    "    preds = np.load(pred_file, allow_pickle=True).item()[pca_components]\n",
    "    datum = [preds[i][key] for i in range(5)]\n",
    "    unimodal_data[mode] = datum"
   ]
  },
  {
   "cell_type": "markdown",
   "id": "21",
   "metadata": {},
   "source": [
    "### Best of Each Modality"
   ]
  },
  {
   "cell_type": "code",
   "execution_count": null,
   "id": "22",
   "metadata": {},
   "outputs": [],
   "source": [
    "demo_results = cross_val_lo_hi_risk_curves(unimodal_data[\"demo\"], df)\n",
    "canc_results = cross_val_lo_hi_risk_curves(unimodal_data[\"canc\"], df)\n",
    "expr_results = cross_val_lo_hi_risk_curves(unimodal_data[\"expr\"], df)\n",
    "hist_results = cross_val_lo_hi_risk_curves(unimodal_data[\"hist\"], df)\n",
    "text_results = cross_val_lo_hi_risk_curves(unimodal_data[\"summ\"], df)\n",
    "\n",
    "plot_comparison(\n",
    "    modes=[\n",
    "        (\"Demographics\", \"tab:blue\", demo_results),\n",
    "        (\"Cancer Type\", \"tab:orange\", canc_results),\n",
    "        (\"RNA-seq\", \"tab:green\", expr_results),\n",
    "        (\"Histology\", \"tab:red\", hist_results),\n",
    "        (\"Text\", \"tab:purple\", text_results),\n",
    "    ],\n",
    "    plot_std=False,\n",
    ")"
   ]
  },
  {
   "cell_type": "markdown",
   "id": "23",
   "metadata": {},
   "source": [
    "### Summarization Comparison"
   ]
  },
  {
   "cell_type": "code",
   "execution_count": null,
   "id": "24",
   "metadata": {},
   "outputs": [],
   "source": [
    "text_results = cross_val_lo_hi_risk_curves(unimodal_data[\"text\"], df)\n",
    "summ_results = cross_val_lo_hi_risk_curves(unimodal_data[\"summ\"], df)\n",
    "\n",
    "plot_comparison(\n",
    "    modes=[\n",
    "        (\"Original Text\", \"tab:blue\", text_results),\n",
    "        (\"Summarized Text\", \"tab:orange\", summ_results)\n",
    "    ],\n",
    "    save_path=[\"figs/summarization.pdf\", \"figs/summarization.png\"],\n",
    ")"
   ]
  },
  {
   "cell_type": "markdown",
   "id": "25",
   "metadata": {},
   "source": [
    "### Text Embeddings"
   ]
  },
  {
   "cell_type": "code",
   "execution_count": null,
   "id": "26",
   "metadata": {},
   "outputs": [],
   "source": [
    "bio_text_results = cross_val_lo_hi_risk_curves(unimodal_data[\"text\"], df)\n",
    "bio_summ_results = cross_val_lo_hi_risk_curves(unimodal_data[\"summ\"], df)\n",
    "mis_text_results = cross_val_lo_hi_risk_curves(unimodal_data[\"text-mistral\"], df)\n",
    "mis_summ_results = cross_val_lo_hi_risk_curves(unimodal_data[\"summ-mistral\"], df)\n",
    "\n",
    "plot_comparison(\n",
    "    modes=[\n",
    "        (\"BioMistral (Original)\", \"tab:blue\", bio_text_results),\n",
    "        (\"BioMistral (Summarized)\", \"tab:orange\", bio_summ_results),\n",
    "        (\"Mistral (Original)\", \"tab:red\", mis_text_results),\n",
    "        (\"Mistral (Summarized)\", \"tab:green\", mis_summ_results),\n",
    "    ],\n",
    "    plot_std=False,\n",
    "    save_path=[\"figs/text.pdf\", \"figs/text.png\"],\n",
    ")"
   ]
  },
  {
   "cell_type": "markdown",
   "id": "27",
   "metadata": {},
   "source": [
    "### BulkRNABert vs UCE"
   ]
  },
  {
   "cell_type": "code",
   "execution_count": null,
   "id": "28",
   "metadata": {},
   "outputs": [],
   "source": [
    "bert_results = cross_val_lo_hi_risk_curves(unimodal_data[\"expr\"], df)\n",
    "uce_results = cross_val_lo_hi_risk_curves(unimodal_data[\"expr-uce\"], df)\n",
    "\n",
    "plot_comparison(\n",
    "    modes=[\n",
    "        (\"BulkRNABert\", \"tab:pink\", bert_results),\n",
    "        (\"UCE\", \"tab:purple\", uce_results),\n",
    "    ],\n",
    "    save_path=[\"figs/expression.pdf\", \"figs/expression.png\"],\n",
    ")"
   ]
  },
  {
   "cell_type": "markdown",
   "id": "29",
   "metadata": {},
   "source": [
    "### Table"
   ]
  },
  {
   "cell_type": "code",
   "execution_count": null,
   "id": "30",
   "metadata": {},
   "outputs": [],
   "source": [
    "trials = pd.read_csv(\"results_summarized.csv\")\n",
    "trials = trials.rename(columns={\"Unnamed: 0\": \"combo\"})"
   ]
  },
  {
   "cell_type": "code",
   "execution_count": null,
   "id": "31",
   "metadata": {},
   "outputs": [],
   "source": [
    "print(trials.head(6).to_latex(index=False, float_format=lambda x: f\"{x:0.3f}\"))"
   ]
  },
  {
   "cell_type": "markdown",
   "id": "32",
   "metadata": {},
   "source": [
    "## Multimodal Comparisons"
   ]
  },
  {
   "cell_type": "code",
   "execution_count": null,
   "id": "33",
   "metadata": {},
   "outputs": [],
   "source": [
    "trials = pd.read_csv(\"results_summarized.csv\")\n",
    "trials = trials.rename(columns={\"Unnamed: 0\": \"combo\"})"
   ]
  },
  {
   "cell_type": "markdown",
   "id": "34",
   "metadata": {},
   "source": [
    "### Table"
   ]
  },
  {
   "cell_type": "code",
   "execution_count": null,
   "id": "35",
   "metadata": {},
   "outputs": [],
   "source": [
    "trials[trials[\"combo\"].str.count(\"-\") == 1]"
   ]
  },
  {
   "cell_type": "code",
   "execution_count": null,
   "id": "36",
   "metadata": {},
   "outputs": [],
   "source": [
    "trials[trials[\"combo\"].str.count(\"-\") == 2]"
   ]
  },
  {
   "cell_type": "code",
   "execution_count": null,
   "id": "37",
   "metadata": {},
   "outputs": [],
   "source": [
    "trials[trials[\"combo\"].str.count(\"-\") == 3]"
   ]
  },
  {
   "cell_type": "code",
   "execution_count": null,
   "id": "38",
   "metadata": {},
   "outputs": [],
   "source": [
    "trials[trials[\"combo\"].str.count(\"-\") == 4]"
   ]
  },
  {
   "cell_type": "code",
   "execution_count": null,
   "id": "39",
   "metadata": {},
   "outputs": [],
   "source": [
    "# Results across FMs\n",
    "print(trials.loc[[12, 13, 14]].to_latex(index=False, float_format=lambda x: f\"{x:0.3f}\"))"
   ]
  },
  {
   "cell_type": "code",
   "execution_count": null,
   "id": "40",
   "metadata": {},
   "outputs": [],
   "source": [
    "# Best for each number of combinations\n",
    "print(trials.loc[[14, 24, 29, 30]].to_latex(index=False, float_format=lambda x: f\"{x:0.3f}\"))"
   ]
  },
  {
   "cell_type": "markdown",
   "id": "41",
   "metadata": {},
   "source": [
    "### Plot"
   ]
  },
  {
   "cell_type": "code",
   "execution_count": null,
   "id": "42",
   "metadata": {},
   "outputs": [],
   "source": [
    "pca_components = 256\n",
    "modes = {\n",
    "    \"hist-text\": (\"hist-text\", \"predictions_summarized.npy\"),\n",
    "    \"expr-hist-text\": (\"expr-hist-text\", \"predictions_summarized.npy\"),\n",
    "    \"demo-expr-hist-text\": (\"demo-expr-hist-text\", \"predictions_summarized.npy\"),\n",
    "    \"canc-demo-expr-hist-text\": (\"canc-demo-expr-hist-text\", \"predictions_summarized.npy\"),\n",
    "}\n",
    "multimodal_data = dict()\n",
    "for mode, (key, pred_file) in modes.items():\n",
    "    preds = np.load(pred_file, allow_pickle=True).item()[pca_components]\n",
    "    datum = [preds[i][key] for i in range(5)]\n",
    "    multimodal_data[mode] = datum"
   ]
  },
  {
   "cell_type": "code",
   "execution_count": null,
   "id": "43",
   "metadata": {},
   "outputs": [],
   "source": [
    "two_results = cross_val_lo_hi_risk_curves(multimodal_data[\"hist-text\"], df)\n",
    "three_results = cross_val_lo_hi_risk_curves(multimodal_data[\"expr-hist-text\"], df)\n",
    "four_results = cross_val_lo_hi_risk_curves(multimodal_data[\"demo-expr-hist-text\"], df)\n",
    "five_results = cross_val_lo_hi_risk_curves(multimodal_data[\"canc-demo-expr-hist-text\"], df)\n",
    "\n",
    "plot_comparison(\n",
    "    modes=[\n",
    "        (\"Hist-Text\", \"tab:blue\", two_results),\n",
    "        (\"Expr-Hist-Text\", \"tab:orange\", three_results),\n",
    "        (\"Demo-Expr-Hist-Text\", \"tab:red\", four_results),\n",
    "        (\"Canc-Demo-Expr-Hist-Text\", \"tab:green\", five_results),\n",
    "    ],\n",
    "    plot_std=False,\n",
    ")"
   ]
  },
  {
   "cell_type": "markdown",
   "id": "44",
   "metadata": {},
   "source": [
    "## Summarization Experiment"
   ]
  },
  {
   "cell_type": "code",
   "execution_count": null,
   "id": "45",
   "metadata": {},
   "outputs": [],
   "source": [
    "corrected = pd.read_csv(\"../data/sampled_corrected.csv\")"
   ]
  },
  {
   "cell_type": "code",
   "execution_count": null,
   "id": "46",
   "metadata": {},
   "outputs": [],
   "source": [
    "(corrected[\"summ\"] == corrected[\"corrected\"]).sum()"
   ]
  },
  {
   "cell_type": "code",
   "execution_count": null,
   "id": "47",
   "metadata": {},
   "outputs": [],
   "source": [
    "# get indices of sampled data\n",
    "temp = pd.read_csv(\"split_cases.csv\").sort_values(\"split_order\")\n",
    "case_ids = set(corrected[\"case_id\"])\n",
    "split_df = temp[temp[\"case_id\"].isin(case_ids)].reset_index(drop=True)\n",
    "idxs = split_df[\"split_order\"].to_numpy()\n",
    "y_test = make_outcome_array(split_df)"
   ]
  },
  {
   "cell_type": "code",
   "execution_count": null,
   "id": "48",
   "metadata": {},
   "outputs": [],
   "source": [
    "split_df[\"dead\"].sum()"
   ]
  },
  {
   "cell_type": "code",
   "execution_count": null,
   "id": "49",
   "metadata": {},
   "outputs": [],
   "source": [
    "pca_components = 256\n",
    "modes = {\n",
    "    \"summ\": (\"text\", \"predictions_summarized.npy\"),\n",
    "    \"corr\": (\"text\", \"predictions_summarized_corrected.npy\"),\n",
    "}\n",
    "temp = dict()\n",
    "results = dict()\n",
    "for mode, (key, pred_file) in modes.items():\n",
    "    preds = np.load(pred_file, allow_pickle=True).item()[pca_components]\n",
    "    datum = preds[0][key]\n",
    "\n",
    "    y_test_pred = datum[\"y_test_pred\"][idxs]\n",
    "    temp[mode] = y_test_pred\n",
    "    c_index = concordance_index_censored(\n",
    "        event_indicator=y_test[\"Status\"],\n",
    "        event_time=y_test[\"Survival_in_days\"],\n",
    "        estimate=y_test_pred,\n",
    "    )[0]\n",
    "\n",
    "    curves = per_split_lo_hi_risk_curves(y_test_pred, split_df, interpolate=False)\n",
    "\n",
    "    mode_results = {\n",
    "        \"lo_risk\": {\n",
    "            \"time\": curves[\"lo_risk\"][\"time\"],\n",
    "            \"prob\": {\n",
    "                \"mean\": curves[\"lo_risk\"][\"prob\"],\n",
    "                \"std\": None,\n",
    "            }\n",
    "        },\n",
    "        \"hi_risk\": {\n",
    "            \"time\": curves[\"hi_risk\"][\"time\"],\n",
    "            \"prob\": {\n",
    "                \"mean\": curves[\"hi_risk\"][\"prob\"],\n",
    "                \"std\": None,\n",
    "            }\n",
    "        },\n",
    "        \"c_index\": {\n",
    "            \"mean\": c_index,\n",
    "            \"std\": None,\n",
    "        }\n",
    "    }\n",
    "    results[mode] = mode_results"
   ]
  },
  {
   "cell_type": "code",
   "execution_count": null,
   "id": "50",
   "metadata": {},
   "outputs": [],
   "source": [
    "plot_comparison(\n",
    "    modes=[\n",
    "        (\"Summarized\", \"tab:orange\", results[\"summ\"]),\n",
    "        (\"Corrected\", \"tab:cyan\", results[\"corr\"]),\n",
    "    ],\n",
    "    save_path=[\"figs/corrected.pdf\", \"figs/corrected.png\"],\n",
    "    plot_std=False,\n",
    "    include_cidx=False,\n",
    "    linestyles=[\n",
    "        \"-\",\n",
    "        (0, (5, 5)),\n",
    "    ]\n",
    ")"
   ]
  },
  {
   "cell_type": "markdown",
   "id": "51",
   "metadata": {},
   "source": [
    "#### No Change in Risk Stratification\n",
    "Risk scores changed but stratification around median same?"
   ]
  },
  {
   "cell_type": "code",
   "execution_count": null,
   "id": "52",
   "metadata": {},
   "outputs": [],
   "source": [
    "hi_risk_idxs_summ = np.argwhere(temp[\"summ\"] >= np.median(temp[\"summ\"])).squeeze()\n",
    "hi_risk_idxs_corr = np.argwhere(temp[\"corr\"] >= np.median(temp[\"corr\"])).squeeze()\n",
    "assert(hi_risk_idxs_summ == hi_risk_idxs_corr).all()"
   ]
  },
  {
   "cell_type": "markdown",
   "id": "53",
   "metadata": {},
   "source": [
    "## Table One"
   ]
  },
  {
   "cell_type": "code",
   "execution_count": null,
   "id": "54",
   "metadata": {},
   "outputs": [],
   "source": [
    "import pandas as pd\n",
    "from tableone import TableOne"
   ]
  },
  {
   "cell_type": "code",
   "execution_count": null,
   "id": "55",
   "metadata": {},
   "outputs": [],
   "source": [
    "df = pd.read_csv(\"split_cases.csv\")\n",
    "assert df[\"case_id\"].is_unique\n",
    "df = df.set_index(\"case_id\")\n",
    "\n",
    "meta = pd.read_csv(\"../data/clinical.csv\")\n",
    "assert not meta[\"case_id\"].duplicated().any()\n",
    "meta = meta.set_index(\"case_id\")\n",
    "meta[\"age_binned\"] = pd.cut(\n",
    "    meta[\"age\"],\n",
    "    bins=[0, 20, 40, 60, 80, 100],\n",
    "    labels=[\"≤20\", \"21-40\", \"41-60\", \"61-80\", \">80\"],\n",
    ")\n",
    "meta = pd.merge(df, meta, left_index=True, right_index=True)"
   ]
  },
  {
   "cell_type": "code",
   "execution_count": null,
   "id": "56",
   "metadata": {},
   "outputs": [],
   "source": [
    "columns = [\"split\", \"age\", \"sex\", \"race\", \"ethnicity\", \"vital_status\", \"days_to_death_or_censor\", \"project\"]\n",
    "categorical = [\"split\", \"sex\", \"race\", \"ethnicity\", \"vital_status\", \"project\"]\n",
    "continuous = [\"age\", \"days_to_death_or_censor\"]\n",
    "groupby = \"split\""
   ]
  },
  {
   "cell_type": "code",
   "execution_count": null,
   "id": "57",
   "metadata": {},
   "outputs": [],
   "source": [
    "t1 = TableOne(data=meta, columns=columns, categorical=categorical, continuous=continuous, groupby=groupby, missing=False)"
   ]
  },
  {
   "cell_type": "code",
   "execution_count": null,
   "id": "58",
   "metadata": {},
   "outputs": [],
   "source": [
    "t1"
   ]
  },
  {
   "cell_type": "code",
   "execution_count": null,
   "id": "59",
   "metadata": {},
   "outputs": [],
   "source": [
    "print(t1.to_latex())"
   ]
  },
  {
   "cell_type": "code",
   "execution_count": null,
   "id": "60",
   "metadata": {},
   "outputs": [],
   "source": []
  }
 ],
 "metadata": {
  "kernelspec": {
   "display_name": "survival",
   "language": "python",
   "name": "python3"
  },
  "language_info": {
   "codemirror_mode": {
    "name": "ipython",
    "version": 3
   },
   "file_extension": ".py",
   "mimetype": "text/x-python",
   "name": "python",
   "nbconvert_exporter": "python",
   "pygments_lexer": "ipython3",
   "version": "3.10.17"
  }
 },
 "nbformat": 4,
 "nbformat_minor": 5
}
