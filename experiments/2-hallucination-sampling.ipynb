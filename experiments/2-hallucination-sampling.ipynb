{
 "cells": [
  {
   "cell_type": "markdown",
   "id": "0",
   "metadata": {},
   "source": [
    "# Summarization Hallucination"
   ]
  },
  {
   "cell_type": "markdown",
   "id": "1",
   "metadata": {},
   "source": [
    "### Select 40 Random Cases\n",
    "Use cases from a single test split, stratify by outcome"
   ]
  },
  {
   "cell_type": "code",
   "execution_count": null,
   "id": "2",
   "metadata": {},
   "outputs": [],
   "source": [
    "import pandas as pd\n",
    "from sklearn.model_selection import train_test_split"
   ]
  },
  {
   "cell_type": "code",
   "execution_count": null,
   "id": "3",
   "metadata": {},
   "outputs": [],
   "source": [
    "df = pd.read_csv(\"../results/split_cases.csv\") # requires running a baseline survival experiment to generate this CSV"
   ]
  },
  {
   "cell_type": "code",
   "execution_count": null,
   "id": "4",
   "metadata": {},
   "outputs": [],
   "source": [
    "split_df = df[df[\"split\"] == 0].sort_values(\"split_order\").reset_index(drop=True)\n",
    "_, sampled = train_test_split(split_df, test_size=40, random_state=24, shuffle=True, stratify=split_df[\"dead\"])"
   ]
  },
  {
   "cell_type": "code",
   "execution_count": null,
   "id": "5",
   "metadata": {},
   "outputs": [],
   "source": [
    "text = pd.read_csv(\"../data/TCGA_Reports.csv\")\n",
    "summ = pd.read_csv(\"../data/summarized_reports.csv\")"
   ]
  },
  {
   "cell_type": "code",
   "execution_count": null,
   "id": "6",
   "metadata": {},
   "outputs": [],
   "source": [
    "text[\"case_id\"] = text[\"patient_filename\"].str.split(\".\").str[0]\n",
    "summ[\"case_id\"] = summ[\"patient_filename\"].str.split(\".\").str[0]"
   ]
  },
  {
   "cell_type": "code",
   "execution_count": null,
   "id": "7",
   "metadata": {},
   "outputs": [],
   "source": [
    "text_selected = text.set_index(\"case_id\").loc[sampled[\"case_id\"]]\n",
    "summ_selected = summ.set_index(\"case_id\").loc[sampled[\"case_id\"]]"
   ]
  },
  {
   "cell_type": "code",
   "execution_count": null,
   "id": "8",
   "metadata": {},
   "outputs": [],
   "source": [
    "to_correct = pd.concat([text_selected, summ_selected.rename(columns={\"text\": \"summ\"})[[\"summ\"]]], axis=1).reset_index()\n",
    "to_correct.to_csv(\"../data/sampled.csv\", index=False)"
   ]
  },
  {
   "cell_type": "markdown",
   "id": "9",
   "metadata": {},
   "source": [
    "## Manually corrected sampled summaries\n",
    "Use the [comparison tool](../tools)!"
   ]
  },
  {
   "cell_type": "markdown",
   "id": "10",
   "metadata": {},
   "source": [
    "## Merge corrected summaries\n",
    "\n",
    "To run the survival pipeline with the corrected summaries, it is simpler to merge the corrected summaries with the other summaries, run experiments, and only analyze results over the corrected summaries (done in our [result analysis notebook](../results/analyze-results.ipynb))."
   ]
  },
  {
   "cell_type": "code",
   "execution_count": null,
   "id": "11",
   "metadata": {},
   "outputs": [],
   "source": [
    "corrected = pd.read_csv(\"../data/sampled_corrected.csv\").set_index(\"case_id\")\n",
    "print(f\"{(corrected['summ'] != corrected['corrected']).sum()} corrections\")"
   ]
  },
  {
   "cell_type": "code",
   "execution_count": null,
   "id": "12",
   "metadata": {},
   "outputs": [],
   "source": [
    "# setup for survival experiment pipeline, analyze selected subset separately\n",
    "summ = summ.set_index(\"case_id\")\n",
    "summ.loc[corrected.index, \"text\"] = corrected[\"corrected\"]\n",
    "summ.to_csv(\"../data/summarized_reports_corrected.csv\")"
   ]
  },
  {
   "cell_type": "code",
   "execution_count": null,
   "id": "13",
   "metadata": {},
   "outputs": [],
   "source": []
  }
 ],
 "metadata": {
  "kernelspec": {
   "display_name": "survival",
   "language": "python",
   "name": "python3"
  },
  "language_info": {
   "codemirror_mode": {
    "name": "ipython",
    "version": 3
   },
   "file_extension": ".py",
   "mimetype": "text/x-python",
   "name": "python",
   "nbconvert_exporter": "python",
   "pygments_lexer": "ipython3",
   "version": "3.10.17"
  }
 },
 "nbformat": 4,
 "nbformat_minor": 5
}
